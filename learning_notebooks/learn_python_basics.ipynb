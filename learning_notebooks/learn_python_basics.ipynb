{
  "nbformat": 4,
  "nbformat_minor": 0,
  "metadata": {
    "colab": {
      "provenance": [],
      "toc_visible": true,
      "include_colab_link": true
    },
    "kernelspec": {
      "name": "python3",
      "display_name": "Python 3"
    },
    "language_info": {
      "name": "python"
    }
  },
  "cells": [
    {
      "cell_type": "markdown",
      "metadata": {
        "id": "view-in-github",
        "colab_type": "text"
      },
      "source": [
        "<a href=\"https://colab.research.google.com/github/TheDataFestAI/learn_flask/blob/main/learning_notebooks/learn_python_basics.ipynb\" target=\"_parent\"><img src=\"https://colab.research.google.com/assets/colab-badge.svg\" alt=\"Open In Colab\"/></a>"
      ]
    },
    {
      "cell_type": "markdown",
      "source": [
        "# Learn Python\n",
        "\n",
        "Learn Python in step by step."
      ],
      "metadata": {
        "id": "-mhZ20gex4JS"
      }
    },
    {
      "cell_type": "markdown",
      "source": [
        "# What is Programming Language?"
      ],
      "metadata": {
        "id": "sbt4DvN1_LA-"
      }
    },
    {
      "cell_type": "markdown",
      "source": [
        "1. **Programming language:** through this, humans can instruct or interact with the computer instead of writing in binary code as computer only understand binary digits (0, 1)."
      ],
      "metadata": {
        "id": "NS-XFOyj9RGC"
      }
    },
    {
      "cell_type": "markdown",
      "source": [
        "## Classification of Programming Language:"
      ],
      "metadata": {
        "id": "O3eDsbJZ5a0v"
      }
    },
    {
      "cell_type": "markdown",
      "source": [
        "1. **Procedural Programming language:** In 1980's most of the problems was mathematical or statistical. That time it's enough to instruct computer through a conditional logic or pattern like flowchart diagram. In this language, we break the problem statement into smaller chunks and made binary decisions. `Example: C language`\n",
        "\n",
        "\n",
        "2. **Object Oriented Language:** In 2000's when internet was invented, humans instruct computer to solve real world problems by defining different entities as different objects by specifying their behaviour/characteristics. Also create relationships between the objects (oops concept). `Example: C++ , Java`\n",
        "\n",
        "3. **Functional Programming:** OOPS required more lines of code to develop an application and it's process little slowly, functional programming became very famous to write quick/efficient applications and faster executions. `Example: Scala`"
      ],
      "metadata": {
        "id": "U9pPRv_K9MpD"
      }
    },
    {
      "cell_type": "markdown",
      "source": [
        "## Compiled and Interpreted language:"
      ],
      "metadata": {
        "id": "v-IaciRrnapV"
      }
    },
    {
      "cell_type": "markdown",
      "source": [
        "## High level and low level programming language:"
      ],
      "metadata": {
        "id": "e2KHnwb7nSxj"
      }
    },
    {
      "cell_type": "markdown",
      "source": [
        "# What is Python?\n",
        "\n",
        "1. Python is **Procedural, Object orientated and Functional language**.\n",
        "2. Its a **interpreted language**.\n",
        "3. Its a **high level language**.\n",
        "4. Python is **case sensitive**. Means in `var1 = \"aBc\" and Var1 = \"aBc\"`, both var1 and Var1 are not same"
      ],
      "metadata": {
        "id": "AInTTQaaBv8G"
      }
    },
    {
      "cell_type": "markdown",
      "source": [
        "1. We are currently using Python 3.x instead of 2.x because most of the industry now uses Python 3.\n",
        "2."
      ],
      "metadata": {
        "id": "JUscp8fFrBwV"
      }
    },
    {
      "cell_type": "markdown",
      "source": [
        "# Python Installation:"
      ],
      "metadata": {
        "id": "dexgaWF1CMuG"
      }
    },
    {
      "cell_type": "markdown",
      "source": [
        "1. Goto \"https://www.python.org/downloads/\" url and download first and then install the python in your local machine or use google colab which has readymade python environment with other python packages"
      ],
      "metadata": {
        "id": "BlAY-C-_9H9L"
      }
    },
    {
      "cell_type": "markdown",
      "source": [
        "# Python Keywords:"
      ],
      "metadata": {
        "id": "t9ZGcqdfyWuN"
      }
    },
    {
      "cell_type": "markdown",
      "source": [
        "1. `python keywords` are **reserved words** by python and can't be used in names\n",
        "\n",
        "2. Find list of python keywords-\n",
        "    ```shell\n",
        "    help('keywords')\n",
        "    ```"
      ],
      "metadata": {
        "id": "jQmroPze9CFp"
      }
    },
    {
      "cell_type": "markdown",
      "source": [
        "# Comments:\n",
        "\n",
        "1. Its a additional information\n",
        "2. Python interpreter does not execute this line"
      ],
      "metadata": {
        "id": "anSA4D0QVLTc"
      }
    },
    {
      "cell_type": "markdown",
      "source": [
        "## single line comments:"
      ],
      "metadata": {
        "id": "7ziDm4ZlV8Qu"
      }
    },
    {
      "cell_type": "code",
      "source": [
        "# it is a single line comments\n",
        "var_a = 1  # another single line comments"
      ],
      "metadata": {
        "id": "ffF-CWOAVc6r"
      },
      "execution_count": null,
      "outputs": []
    },
    {
      "cell_type": "markdown",
      "source": [
        "## multi-line comments:"
      ],
      "metadata": {
        "id": "ZS5wmlPgWIMC"
      }
    },
    {
      "cell_type": "code",
      "source": [
        "'''This is a multi line comments'''\n",
        "\n",
        "'''\n",
        "This is a multi line comments 1\n",
        "This is a multi line comments 2\n",
        "'''\n",
        "\n",
        "\"\"\"This is also same\"\"\""
      ],
      "metadata": {
        "id": "42WRiH2ZWKv-"
      },
      "execution_count": null,
      "outputs": []
    },
    {
      "cell_type": "markdown",
      "source": [
        "## Doc-string comments:\n",
        "\n",
        "1. specify some documentational comments or details under functions or classes or python files."
      ],
      "metadata": {
        "id": "jSsRhZZuWoyR"
      }
    },
    {
      "cell_type": "markdown",
      "source": [
        "# Indentation:\n",
        "\n",
        "1. Its a discipline of writing the code in python\n",
        "2. Its avoid to use \";\" at the end of each statement like java."
      ],
      "metadata": {
        "id": "3E8PsZBMXTrP"
      }
    },
    {
      "cell_type": "markdown",
      "source": [
        "# Python Identifiers:\n",
        "\n",
        "1. `Identifiers` are those which represents/identifies variable name, class name or function name.\n",
        "\n",
        "2. Basically it identifies either value or function or class or file.\n",
        "\n",
        "3. There are rules for python identifiers:\n",
        "    1. identifier name can contains alphabets, numeric values and only \"_\" (underscore) as special characters.\n",
        "    2. it should either start with only underscore or alphabets\n",
        "    3. name sholud be meaningful"
      ],
      "metadata": {
        "id": "knxdsKIQ86tg"
      }
    },
    {
      "cell_type": "markdown",
      "source": [
        "## Valid Identifiers\n",
        "```python\n",
        "_abc = 123\n",
        "abc = 123\n",
        "ab_c = 123\n",
        "abc_123 = 123\n",
        "```"
      ],
      "metadata": {
        "id": "5NpCDWl9QrSB"
      }
    },
    {
      "cell_type": "markdown",
      "source": [
        "## Invalid Identifiers\n",
        "```python\n",
        "ab-c = 123  # hypen as special char is not allowed\n",
        "12_abc = 123  # name can't start with numeric\n",
        "```"
      ],
      "metadata": {
        "id": "FBp3i_TLQ23_"
      }
    },
    {
      "cell_type": "markdown",
      "source": [
        "## *(trick)* print is valid identifier"
      ],
      "metadata": {
        "id": "SS91Og-xo11-"
      }
    },
    {
      "cell_type": "code",
      "source": [
        "print = 10\n",
        "print"
      ],
      "metadata": {
        "id": "dQtyKsGnn9t1",
        "outputId": "78d7c73d-016f-46e7-b6f8-022cc7e54b1e",
        "colab": {
          "base_uri": "https://localhost:8080/"
        }
      },
      "execution_count": null,
      "outputs": [
        {
          "output_type": "execute_result",
          "data": {
            "text/plain": [
              "10"
            ]
          },
          "metadata": {},
          "execution_count": 2
        }
      ]
    },
    {
      "cell_type": "markdown",
      "source": [
        "# Differences between Identifiers and Variables\n",
        "\n",
        "\n",
        "id | Identifiers | Variables\n",
        ":--- | --- | ---\n",
        "1 | `Identifiers` are those which represents/identifies variable name, class name or function name | `variable` indicates certain value\n",
        "2 | `a = 123 or a = myfunc()` | `a = 123`"
      ],
      "metadata": {
        "id": "i2IzUXJiOuhi"
      }
    },
    {
      "cell_type": "markdown",
      "source": [
        "# Namespaces and Scopes:"
      ],
      "metadata": {
        "id": "8dvLDeHScb0O"
      }
    },
    {
      "cell_type": "markdown",
      "source": [
        "1. `Namespace` is a system that has **a unique name for each and every object in Python**. An object might be a variable or a method.\n",
        "\n",
        "2. Different types of Namespaces:\n",
        "    1. Built-In Namespace\n",
        "    2. Global Namespace\n",
        "    3. Local Namespace\n",
        "\n",
        "3. Lifetime of a namespace:\n",
        "    1. A lifetime of a namespace depends upon the scope of objects, if the scope of an object ends, the lifetime of that namespace comes to an end. Hence, it is not possible to access the inner namespace’s objects from an outer namespace."
      ],
      "metadata": {
        "id": "GHohDpnecd8H"
      }
    },
    {
      "cell_type": "markdown",
      "source": [
        "1. `Scopes` refers to the **coding region from which a particular Python object is accessible**. Hence one cannot access any particular object from anywhere from the code, the accessing has to be allowed by the scope of the object.\n",
        "\n",
        "2. Different types of Scopes:\n",
        "    1. global (specify explicitly)\n",
        "    2. local (default)\n",
        "    3. nonlocal (specify explicitly)\n",
        "\n",
        "```python\n",
        "# global\n",
        "def outer_func():\n",
        "    # local\n",
        "    def inner_func():\n",
        "        # local\n",
        "        # nonlocal, neither local to \"inner_func\" nor global, scope is refer to \"outer_func\"\n",
        "```"
      ],
      "metadata": {
        "id": "7wQIT9wyciWk"
      }
    },
    {
      "cell_type": "code",
      "source": [
        "\"\"\"\n",
        "1. var: any variable initialized in outer scope, can be accessed from inner scope\n",
        "2. var1: same varible with different scopes (function and nested function)\n",
        "\"\"\"\n",
        "\n",
        "def parent():\n",
        "    var = 5\n",
        "    var1 = 10\n",
        "    def child():\n",
        "        # \"var\" has scope across entire parent(), will be accessible from child()\n",
        "        print(f\"child: id of var: {id(var)}, value: {var}\")\n",
        "\n",
        "        # here \"var1\" again initialized, and it has different scope now\n",
        "        var1 = 20\n",
        "        print(f\"child: id of var1: {id(var1)}, value: {var1}\")\n",
        "\n",
        "    print(f\"parent: id of var: {id(var)}, value: {var}\")\n",
        "    print(f\"parent: id of var1: {id(var1)}, value: {var1}\")\n",
        "    print()\n",
        "    child()\n",
        "parent()"
      ],
      "metadata": {
        "id": "UNI_Daeqcs9o"
      },
      "execution_count": null,
      "outputs": []
    },
    {
      "cell_type": "markdown",
      "source": [
        "## global and nonlocal"
      ],
      "metadata": {
        "id": "ERLlhBRSczZ-"
      }
    },
    {
      "cell_type": "code",
      "source": [
        "\"\"\"\n",
        "UnboundLocalError:\n",
        "    1. local variable 'var1' referenced before assignment (will solve by global)\n",
        "    2. local variable 'var2' referenced before assignment (will solve by nonlocal)\n",
        "\"\"\"\n",
        "var1 = 1\n",
        "def parent():\n",
        "    try:\n",
        "        var1 = var1 + 1 # to initialize \"var1\", it cannot find the value of \"var1\"\n",
        "        var2 = 10\n",
        "\n",
        "        def child():\n",
        "            var2 = var2 + 5  # to initialize \"var2\", it cannot find the value of \"var2\"\n",
        "            print(f\"child var2: {var2}, {id(var2)}\")\n",
        "        print(f\"parent var2: {var2}, {id(var2)}\")\n",
        "        child()\n",
        "    except Exception as e:\n",
        "        print(f\"error occured: {type(e)}, {e}\")\n",
        "parent()"
      ],
      "metadata": {
        "id": "jch0FsWuc1G9"
      },
      "execution_count": null,
      "outputs": []
    },
    {
      "cell_type": "code",
      "source": [
        "# Use of nonlocal\n",
        "# Use of global\n",
        "\n",
        "var1=1  # global, used global keyward\n",
        "var2=5  # global,\n",
        "\n",
        "def parent():\n",
        "    global var1\n",
        "    var1 = var1 + 1\n",
        "    var2 = 10  # local to parent\n",
        "\n",
        "    def child():\n",
        "        global var1\n",
        "        var1 = var1 + 1\n",
        "        print(f\"child var1: {var1}\")\n",
        "\n",
        "        nonlocal var2  # as var2 is nonlocal to child(), it will refer parent var2, not global var2\n",
        "        var2 = var2 + 5\n",
        "        print(f\"child var2: {var2}, {id(var2)}\\n\")\n",
        "\n",
        "    print(\"before calling child()\")\n",
        "    print(f\"parent var1: {var1}\")\n",
        "    print(f\"parent var2: {var2}, {id(var2)}\\n\")\n",
        "\n",
        "    child()\n",
        "\n",
        "    print(\"after calling child()\")\n",
        "    print(f\"parent var1: {var1}\")\n",
        "    print(f\"parent var2: {var2}, {id(var2)}\\n\")\n",
        "\n",
        "print(\"before calling parent()\")\n",
        "print(f\"parent var1: {var1}\")\n",
        "print(f\"grand parent var2: {var2}, {id(var2)}\\n\")\n",
        "\n",
        "parent()\n",
        "\n",
        "print(\"after calling parent()\")\n",
        "print(f\"parent var1: {var1}\")\n",
        "print(f\"grand parent var2: {var2}, {id(var2)}\")"
      ],
      "metadata": {
        "id": "otuLF2zydXMz"
      },
      "execution_count": null,
      "outputs": []
    },
    {
      "cell_type": "markdown",
      "source": [
        "# Statements:\n",
        "\n",
        "1. lines of code. Can be multiple lines of code.\n",
        "2. Its executed and evaluated some result"
      ],
      "metadata": {
        "id": "Z9dvN9_RdMFi"
      }
    },
    {
      "cell_type": "markdown",
      "source": [
        "## Assigment Statements:"
      ],
      "metadata": {
        "id": "Y6EAMInWdPeJ"
      }
    },
    {
      "cell_type": "code",
      "source": [
        "a = 123\n",
        "name = \"indra\""
      ],
      "metadata": {
        "id": "YeELRIv9dOnZ"
      },
      "execution_count": null,
      "outputs": []
    },
    {
      "cell_type": "markdown",
      "source": [
        "## Expression Statements:"
      ],
      "metadata": {
        "id": "NVFgj_crdS2f"
      }
    },
    {
      "cell_type": "code",
      "source": [
        "x = 1\n",
        "add = x + 1  # expression, where operations happend and store the result into variable\n",
        "print(add)"
      ],
      "metadata": {
        "id": "5zGFd9iwdbAl"
      },
      "execution_count": null,
      "outputs": []
    },
    {
      "cell_type": "markdown",
      "source": [
        "## Conditional Statements:"
      ],
      "metadata": {
        "id": "vwz0ynGey236"
      }
    },
    {
      "cell_type": "markdown",
      "source": [
        "### if-else:"
      ],
      "metadata": {
        "id": "usbJInRHaNpM"
      }
    },
    {
      "cell_type": "code",
      "source": [
        "var1 = \"abc\"\n",
        "\n",
        "if type(var1) == str:\n",
        "    print(\"its string variable\")\n",
        "else:\n",
        "    print(\"its not string variable\")"
      ],
      "metadata": {
        "colab": {
          "base_uri": "https://localhost:8080/"
        },
        "id": "2rsKpFuUaPv3",
        "outputId": "819bd8da-26f5-4df9-f023-48aed030e8b6"
      },
      "execution_count": null,
      "outputs": [
        {
          "output_type": "stream",
          "name": "stdout",
          "text": [
            "its string variable\n"
          ]
        }
      ]
    },
    {
      "cell_type": "markdown",
      "source": [
        "### if-elif-else:\n",
        "\n",
        "1. Its a if-else ladder"
      ],
      "metadata": {
        "id": "Q0Zj9RXd19yT"
      }
    },
    {
      "cell_type": "code",
      "source": [
        "str1 = \"hello World!!\"\n",
        "\n",
        "if \"Hello\" in str1:\n",
        "    print(\"Hello is present\")\n",
        "elif \"hello\" in str1:\n",
        "    print(\"hello is present\")\n",
        "else:\n",
        "    print(\"Hello or hello is not present\")"
      ],
      "metadata": {
        "colab": {
          "base_uri": "https://localhost:8080/"
        },
        "id": "RuGk3wVnYmuy",
        "outputId": "0f2570b5-918c-425c-dac7-676cec82f0d2"
      },
      "execution_count": null,
      "outputs": [
        {
          "output_type": "stream",
          "name": "stdout",
          "text": [
            "hello is present\n"
          ]
        }
      ]
    },
    {
      "cell_type": "markdown",
      "source": [
        "### nested if-else block:"
      ],
      "metadata": {
        "id": "ARWq076XahtE"
      }
    },
    {
      "cell_type": "code",
      "source": [],
      "metadata": {
        "id": "S5TXDcoNkwCd"
      },
      "execution_count": null,
      "outputs": []
    },
    {
      "cell_type": "markdown",
      "source": [
        "## Loop Statements:"
      ],
      "metadata": {
        "id": "sFgxAbcP11JH"
      }
    },
    {
      "cell_type": "markdown",
      "source": [
        "### for loop"
      ],
      "metadata": {
        "id": "9js1LkB14ASy"
      }
    },
    {
      "cell_type": "code",
      "source": [
        "for i in range(1, 10, 2):\n",
        "    print(i)"
      ],
      "metadata": {
        "colab": {
          "base_uri": "https://localhost:8080/"
        },
        "id": "Z0qncfT4bBwQ",
        "outputId": "6fb3ddcb-21b2-4e08-c9ac-470ab73717bf"
      },
      "execution_count": null,
      "outputs": [
        {
          "output_type": "stream",
          "name": "stdout",
          "text": [
            "1\n",
            "3\n",
            "5\n",
            "7\n",
            "9\n"
          ]
        }
      ]
    },
    {
      "cell_type": "code",
      "source": [
        "word = \"abcdefg\"\n",
        "for i in word:\n",
        "    print(i)"
      ],
      "metadata": {
        "colab": {
          "base_uri": "https://localhost:8080/"
        },
        "id": "Yy3KNmhzbPF3",
        "outputId": "0297668a-2716-4af4-dc81-86e49ba225f0"
      },
      "execution_count": null,
      "outputs": [
        {
          "output_type": "stream",
          "name": "stdout",
          "text": [
            "a\n",
            "b\n",
            "c\n",
            "d\n",
            "e\n",
            "f\n",
            "g\n"
          ]
        }
      ]
    },
    {
      "cell_type": "markdown",
      "source": [
        "### while loop"
      ],
      "metadata": {
        "id": "s6Nyqw1N4Cgc"
      }
    },
    {
      "cell_type": "code",
      "source": [
        "word = \"abcdefg\"\n",
        "index = 0\n",
        "\n",
        "while index < len(word):\n",
        "    print(word[index])\n",
        "    index += 1"
      ],
      "metadata": {
        "colab": {
          "base_uri": "https://localhost:8080/"
        },
        "id": "1S7lUB13kNlL",
        "outputId": "1d460003-0890-4668-9d40-4585b0324e63"
      },
      "execution_count": null,
      "outputs": [
        {
          "output_type": "stream",
          "name": "stdout",
          "text": [
            "a\n",
            "b\n",
            "c\n",
            "d\n",
            "e\n",
            "f\n",
            "g\n"
          ]
        }
      ]
    },
    {
      "cell_type": "markdown",
      "source": [
        "## function call statement:"
      ],
      "metadata": {
        "id": "H81ZvoVjk4JV"
      }
    },
    {
      "cell_type": "code",
      "source": [
        "l = len(\"1234\")  # len() is a function and called\n",
        "print(\"Hello Pal!!\")  # print() is a function and called"
      ],
      "metadata": {
        "id": "o5HKNOrklCks"
      },
      "execution_count": null,
      "outputs": []
    },
    {
      "cell_type": "markdown",
      "source": [
        "## Other Statement:"
      ],
      "metadata": {
        "id": "ivOuE9pbtQIJ"
      }
    },
    {
      "cell_type": "markdown",
      "source": [
        "### break statement:"
      ],
      "metadata": {
        "id": "r9CeUdFylSvZ"
      }
    },
    {
      "cell_type": "code",
      "source": [
        "for i in range(1,5):\n",
        "    if i == 3:\n",
        "        break\n",
        "    print(i)"
      ],
      "metadata": {
        "colab": {
          "base_uri": "https://localhost:8080/"
        },
        "id": "b31pV-MtpPtX",
        "outputId": "63bfe05a-8b4d-42bb-8ca5-21a140e2d5d3"
      },
      "execution_count": null,
      "outputs": [
        {
          "output_type": "stream",
          "name": "stdout",
          "text": [
            "1\n",
            "2\n"
          ]
        }
      ]
    },
    {
      "cell_type": "markdown",
      "source": [
        "### continue statement:"
      ],
      "metadata": {
        "id": "0rrug3HdlU4d"
      }
    },
    {
      "cell_type": "code",
      "source": [
        "for i in range(1,5):\n",
        "    if i == 3:\n",
        "        continue\n",
        "    print(i)"
      ],
      "metadata": {
        "colab": {
          "base_uri": "https://localhost:8080/"
        },
        "id": "_jYi2B8epAYu",
        "outputId": "849d9f37-ee3f-403f-9285-8eef15064222"
      },
      "execution_count": null,
      "outputs": [
        {
          "output_type": "stream",
          "name": "stdout",
          "text": [
            "1\n",
            "2\n",
            "4\n"
          ]
        }
      ]
    },
    {
      "cell_type": "markdown",
      "source": [
        "### return statement:"
      ],
      "metadata": {
        "id": "9NfmBD81lgBa"
      }
    },
    {
      "cell_type": "code",
      "source": [
        "def myfunc(a,b):\n",
        "    return a+b\n",
        "\n",
        "c = myfunc(1,2)\n",
        "print(c)"
      ],
      "metadata": {
        "colab": {
          "base_uri": "https://localhost:8080/"
        },
        "id": "v3QGO86zoz5i",
        "outputId": "6e33c2b3-6eab-41f9-e4b0-3cb83a065125"
      },
      "execution_count": null,
      "outputs": [
        {
          "output_type": "stream",
          "name": "stdout",
          "text": [
            "3\n"
          ]
        }
      ]
    },
    {
      "cell_type": "markdown",
      "source": [
        "### pass statement:"
      ],
      "metadata": {
        "id": "kfCfNq-olifT"
      }
    },
    {
      "cell_type": "code",
      "source": [
        "class Simple:\n",
        "    pass\n",
        "\n",
        "simple = Simple()"
      ],
      "metadata": {
        "id": "fPazUMhMoxwW"
      },
      "execution_count": 1,
      "outputs": []
    },
    {
      "cell_type": "markdown",
      "source": [
        "### import statement:"
      ],
      "metadata": {
        "id": "_bNqKxlblooC"
      }
    },
    {
      "cell_type": "code",
      "source": [
        "import pandas as pd\n",
        "\n",
        "import os\n",
        "import sys\n",
        "\n",
        "from datetime import (datetime, timedelta)"
      ],
      "metadata": {
        "id": "pOS7bdIkoGHJ"
      },
      "execution_count": null,
      "outputs": []
    },
    {
      "cell_type": "markdown",
      "source": [
        "### del statement:"
      ],
      "metadata": {
        "id": "wbiZ1HNolrCp"
      }
    },
    {
      "cell_type": "code",
      "source": [
        "l1 = [1,2]\n",
        "\n",
        "del l1"
      ],
      "metadata": {
        "id": "iihz2jPtoATm"
      },
      "execution_count": null,
      "outputs": []
    },
    {
      "cell_type": "markdown",
      "source": [
        "# Python Datatypes:"
      ],
      "metadata": {
        "id": "8GVPaQMWNbVG"
      }
    },
    {
      "cell_type": "markdown",
      "source": [
        "## int()"
      ],
      "metadata": {
        "id": "yu7XuJzWN5DN"
      }
    },
    {
      "cell_type": "code",
      "source": [
        "i = -2\n",
        "j = 4\n",
        "print(i, type(i), j, type(j))"
      ],
      "metadata": {
        "id": "FQ1NWjGlObYc",
        "outputId": "908876a0-3330-4724-c068-a4093ea2726d",
        "colab": {
          "base_uri": "https://localhost:8080/"
        }
      },
      "execution_count": null,
      "outputs": [
        {
          "output_type": "stream",
          "name": "stdout",
          "text": [
            "-2 <class 'int'> 4 <class 'int'>\n"
          ]
        }
      ]
    },
    {
      "cell_type": "markdown",
      "source": [
        "## float()"
      ],
      "metadata": {
        "id": "s3JfUO1pN7Ot"
      }
    },
    {
      "cell_type": "code",
      "source": [
        "a = 1.1\n",
        "b = 1/1\n",
        "print(a, type(a), b, type(b))"
      ],
      "metadata": {
        "id": "KiSIlawfP-Ak",
        "outputId": "8c5e4bba-311b-4e93-8e80-8342efcdf7e2",
        "colab": {
          "base_uri": "https://localhost:8080/"
        }
      },
      "execution_count": null,
      "outputs": [
        {
          "output_type": "stream",
          "name": "stdout",
          "text": [
            "1.1 <class 'float'> 1.0 <class 'float'>\n"
          ]
        }
      ]
    },
    {
      "cell_type": "markdown",
      "source": [
        "## str():"
      ],
      "metadata": {
        "id": "I_lKekEJFDoc"
      }
    },
    {
      "cell_type": "code",
      "source": [
        "# bytes to string conversion\n",
        "# different types to use print function with formatted string\n",
        "\n",
        "b = b\"hello world\"\n",
        "print(f\"bytes value: {b}, type: {type(b)}\")\n",
        "\n",
        "# if you are not passing \"encoding\" parameter in str(), it will keep b\"<string>\" instead of <string>\n",
        "s = str(b)\n",
        "print(f\"bytes string value: {s}, type: {type(s)}\")\n",
        "\n",
        "s1 = str(b, \"UTF-8\")\n",
        "print(f\"string value: {s1}, type: {type(s1)}\")"
      ],
      "metadata": {
        "colab": {
          "base_uri": "https://localhost:8080/"
        },
        "id": "TX4vCpjOFEjX",
        "outputId": "095cf380-39b1-4ac5-f43d-2600484b49d5"
      },
      "execution_count": null,
      "outputs": [
        {
          "output_type": "stream",
          "name": "stdout",
          "text": [
            "bytes value: b'hello world', type: <class 'bytes'>\n",
            "bytes string value: b'hello world', type: <class 'str'>\n",
            "string value: hello world, type: <class 'str'>\n"
          ]
        }
      ]
    },
    {
      "cell_type": "markdown",
      "source": [
        "# Variable:\n",
        "\n",
        "1. `variable` indicates certain value."
      ],
      "metadata": {
        "id": "b7FlP9qn7ReI"
      }
    },
    {
      "cell_type": "markdown",
      "source": [
        "## (*tricks*) Integer variable, its not refer same ofject"
      ],
      "metadata": {
        "id": "Jlu4ERFjP3s9"
      }
    },
    {
      "cell_type": "code",
      "source": [
        "# both a and b are pointing to same value\n",
        "# both a and b has same memory location\n",
        "a = 256\n",
        "b = 256\n",
        "print(f\"a: {id(a)}\")\n",
        "print(f\"b: {id(b)}\")\n",
        "\n",
        "# in backend, `cpython` compile the python code to bytecode for machine readable and its store `-5 to 256` integer values in array of object, and refer the same object.\n",
        "# in 257, c, d are not refering same object\n",
        "c = 257\n",
        "d = 257\n",
        "print(f\"c: {id(c)}\")\n",
        "print(f\"d: {id(d)}\")"
      ],
      "metadata": {
        "id": "Cxor_m67P6zd"
      },
      "execution_count": null,
      "outputs": []
    },
    {
      "cell_type": "markdown",
      "source": [
        "# Python String:"
      ],
      "metadata": {
        "id": "ZA2MSogAIArZ"
      }
    },
    {
      "cell_type": "markdown",
      "source": [
        "1. Python string inbuilt functions:\n",
        "\n",
        "```python\n",
        "sample_str = \"i love india\"\n",
        "sample_list = ['i', 'love', 'india']\n",
        "```\n",
        "\n",
        "id | string methods | description | nexamples\n",
        ":--- | :---: | :--- | ---\n",
        "1. | upper() | convert the string to upper case | `sample_str.upper() -> 'I LOVE INDIA'`\n",
        "2. | lower() | convert the string to lower case | `sample_str.lower() -> 'i love india'`\n",
        "3. | title() | made upper case of each letter | `sample_str.title() -> 'I Love India'`\n",
        "4. | capitalize() | made upper case of first letter only | `sample_str.capitalize() -> 'I love india'`\n",
        "5. | split(\\<split_char\\>) | split the sentence based on split_char | `sample_str.split(\" \") -> ['i', 'love', 'india']`\n",
        "6. | join() | join the list of words into 1 sentence | `\", \".join(sample_list) -> 'i, love, india'`\n",
        "7. | | |\n",
        "8. | | |"
      ],
      "metadata": {
        "id": "Knl47XPlIPxo"
      }
    },
    {
      "cell_type": "markdown",
      "source": [
        "\n",
        "\n",
        "# Type casting"
      ],
      "metadata": {
        "id": "OxghLDC9CB7k"
      }
    },
    {
      "cell_type": "markdown",
      "source": [
        "## convert string to int\n",
        "\n",
        "1. `convert string to float first and then convert to int` else you will get error if string item has already floating/decimal point.\n",
        "\n",
        "2. This is is explicit type casting"
      ],
      "metadata": {
        "id": "UmIEKfzkQWK9"
      }
    },
    {
      "cell_type": "code",
      "source": [
        "a = \"1.6\"\n",
        "int_a = int(float(a))\n",
        "\n",
        "print(f\"original str a: {a}, \\nfloat(a): {float(a)} \\nint(a): {int(float(a))}\")"
      ],
      "metadata": {
        "id": "nvoAjA9UQahD",
        "outputId": "93c16d97-912a-40c1-fbfb-78a705d01020",
        "colab": {
          "base_uri": "https://localhost:8080/"
        }
      },
      "execution_count": null,
      "outputs": [
        {
          "output_type": "stream",
          "name": "stdout",
          "text": [
            "original str a: 1.6, \n",
            "float(a): 1.6 \n",
            "int(a): 1\n"
          ]
        }
      ]
    },
    {
      "cell_type": "markdown",
      "source": [
        "## implicit type casting"
      ],
      "metadata": {
        "id": "_YPi69Y3CWMr"
      }
    },
    {
      "cell_type": "code",
      "source": [
        "a = 3\n",
        "b = 6.5\n",
        "c = a+b  # python decide its type as float\n",
        "print(c, type(c))"
      ],
      "metadata": {
        "id": "FiVvSsiBCmU8",
        "outputId": "f580b776-1ea1-4ba9-d3cb-6ff12cab7868",
        "colab": {
          "base_uri": "https://localhost:8080/"
        }
      },
      "execution_count": null,
      "outputs": [
        {
          "output_type": "stream",
          "name": "stdout",
          "text": [
            "9.5 <class 'float'>\n"
          ]
        }
      ]
    },
    {
      "cell_type": "markdown",
      "source": [
        "## (trick) convert \"0\" and 0 to bool"
      ],
      "metadata": {
        "id": "s_bltpw7C92X"
      }
    },
    {
      "cell_type": "code",
      "source": [
        "print(bool(0))  # 0 consider as False\n",
        "print(bool(\"\"))  # empty string consider as False\n",
        "print(bool(-2))\n",
        "print(bool(100))"
      ],
      "metadata": {
        "id": "i7M6bkvyDGU8",
        "outputId": "ac33fc73-7b66-49b4-a1c5-b48711c1fe94",
        "colab": {
          "base_uri": "https://localhost:8080/"
        }
      },
      "execution_count": null,
      "outputs": [
        {
          "output_type": "stream",
          "name": "stdout",
          "text": [
            "False\n",
            "False\n",
            "True\n",
            "True\n"
          ]
        }
      ]
    },
    {
      "cell_type": "markdown",
      "source": [
        "## Refer integer variable, multiple times"
      ],
      "metadata": {
        "id": "olfFCQqfQETA"
      }
    },
    {
      "cell_type": "code",
      "source": [
        "i = 257\n",
        "\n",
        "e = i\n",
        "f = i\n",
        "g = h = i\n",
        "\n",
        "print(f\"e: {e}, {id(e)}\")\n",
        "print(f\"f: {f}, {id(f)}\")\n",
        "print(f\"g: {g}, {id(g)}\")\n",
        "print(f\"h: {h}, {id(h)}\")\n",
        "print(f\"i: {i}, {id(i)}\")"
      ],
      "metadata": {
        "id": "JwjWkvqOQD3R"
      },
      "execution_count": null,
      "outputs": []
    },
    {
      "cell_type": "markdown",
      "source": [
        "# Python Collections"
      ],
      "metadata": {
        "id": "UHHbcWz4eVFo"
      }
    },
    {
      "cell_type": "markdown",
      "source": [
        "## List vs Tupple vs Set vs Dict\n",
        "\n",
        "| list | tupple | set | dict |\n",
        "| --- | --- | --- | --- |\n",
        "| list() or \"[]\" | tupple() or \"()\" | set() | dict() or \"{}\" |\n",
        "| [1, {1,4,7}, 'b', (1,2), 2.0, True, {\"key\": \"val\"}] | (1, \"a\", {1, 2}, [1, 2], (1,2)) | {1, 2, \"a\", (1, 2)} | {1: \"value1\", \"key2\": [1,2], (1,2): (2,3)} |\n",
        "| not immutable | **yes, immutable (hashable)**, can't change the element | not immutable | not immutable |\n",
        "| list element can be heterogenious | tupple element can be heterogenious | set element is heterogenious and should be **hashable(int, str, tupple)** | `keys should be hashable(int, str, tupple)`, values can be heterogenious |\n",
        "| ordered collection | ordered collection | **unordered collection** | ordered collection (Python 3.7 and above) |\n",
        "| support duplicate elements | support duplicate elements | **has no duplicate elements** | `has no duplicate keys` |"
      ],
      "metadata": {
        "id": "l0ljnheceWg7"
      }
    },
    {
      "cell_type": "markdown",
      "source": [
        "## Collection - list():"
      ],
      "metadata": {
        "id": "2C7kjbu7Fngs"
      }
    },
    {
      "cell_type": "code",
      "source": [
        "ls1 = list()\n",
        "ls2 = []\n",
        "\n",
        "print(f\"ls1: {ls1}, {type(ls1)}\")\n",
        "print(f\"ls2: {ls2}, {type(ls2)}\")\n",
        "\n",
        "if ls1 is ls2:\n",
        "    print(\"both are same\")\n",
        "else:\n",
        "    print(\"both are not same\")"
      ],
      "metadata": {
        "colab": {
          "base_uri": "https://localhost:8080/"
        },
        "id": "qMLisX8aFobX",
        "outputId": "6d2bb7a6-8be3-438a-8618-15a670889669"
      },
      "execution_count": null,
      "outputs": [
        {
          "output_type": "stream",
          "name": "stdout",
          "text": [
            "ls1: [], <class 'list'>\n",
            "ls2: [], <class 'list'>\n",
            "both are not same\n"
          ]
        }
      ]
    },
    {
      "cell_type": "markdown",
      "source": [
        "### list: insert()\n",
        "\n",
        "```python\n",
        "insert(<index>, <value>)\n",
        "```"
      ],
      "metadata": {
        "id": "oWgGs0hWKvnE"
      }
    },
    {
      "cell_type": "code",
      "source": [
        "ls8 = [1,3]\n",
        "ls8.insert(1, \"2\")\n",
        "print(ls8)"
      ],
      "metadata": {
        "id": "PsxE3V5IKyvA",
        "outputId": "6b8a5276-2877-4c40-fcba-14a9246bfac3",
        "colab": {
          "base_uri": "https://localhost:8080/"
        }
      },
      "execution_count": null,
      "outputs": [
        {
          "output_type": "stream",
          "name": "stdout",
          "text": [
            "[1, '2', 3]\n"
          ]
        }
      ]
    },
    {
      "cell_type": "markdown",
      "source": [
        "### list: append()\n",
        "\n",
        "1. append takes individual items and insert directly"
      ],
      "metadata": {
        "id": "afTuIzZ2KzlD"
      }
    },
    {
      "cell_type": "code",
      "source": [
        "ls5 = [1,2]\n",
        "ls6 = [2,3]\n",
        "print(f\"original list: {ls5}\")\n",
        "ls5.append(ls6)\n",
        "print(f\"original list after append: {ls5}\")"
      ],
      "metadata": {
        "id": "6c3ZEu3PCt0m"
      },
      "execution_count": null,
      "outputs": []
    },
    {
      "cell_type": "markdown",
      "source": [
        "### list: extend()\n",
        "\n",
        "1. extend takes iterable items and insert single element from that iterable items"
      ],
      "metadata": {
        "id": "lyvO8wK1C12Y"
      }
    },
    {
      "cell_type": "code",
      "source": [
        "ls5 = [1,2]\n",
        "ls6 = [2,3]\n",
        "\n",
        "print(f\"original list: {ls5}\")\n",
        "ls5.extend(ls6)\n",
        "print(f\"original list after extend: {ls5}\")"
      ],
      "metadata": {
        "id": "f5pSWZg7K8Aa"
      },
      "execution_count": null,
      "outputs": []
    },
    {
      "cell_type": "markdown",
      "source": [
        "### list: sort()"
      ],
      "metadata": {
        "id": "S5Jlc_TrFyPD"
      }
    },
    {
      "cell_type": "code",
      "source": [
        "ls3 = [1, 2,5, 3, 4]\n",
        "\n",
        "print(f\"original list before sorting: {ls3}\")\n",
        "ls3.sort()\n",
        "print(f\"original list after sorting: {ls3}\")"
      ],
      "metadata": {
        "id": "1wT-TBcgF7uv"
      },
      "execution_count": null,
      "outputs": []
    },
    {
      "cell_type": "markdown",
      "source": [
        "### list: remove() and pop()"
      ],
      "metadata": {
        "id": "fkT4lOdCF_vH"
      }
    },
    {
      "cell_type": "markdown",
      "source": [
        "1. **remove()** takes actual value as parameter which will be removed.\n",
        "2. **pop(index=-1)**, always delete from last element, but can delete from specified index"
      ],
      "metadata": {
        "id": "p3TLl9jtGE4Y"
      }
    },
    {
      "cell_type": "code",
      "source": [
        "ls7 = [1,\"pal\", 2,3,4, \"indra\"]\n",
        "print(f\"ls7: {ls7}\")\n",
        "\n",
        "# removing \"indra\"\n",
        "out = ls7.remove(\"indra\")\n",
        "print(f\"after removing 'indra', ls7: {ls7}, out: {out}\")\n",
        "\n",
        "# remove from last element\n",
        "out = ls7.pop()\n",
        "print(f\"after remove from last element, ls7: {ls7}, out: {out}\")\n",
        "\n",
        "# remove 2nd element, \"pal\"\n",
        "out = ls7.pop(1)  # <del ls7[1]> also doing same\n",
        "print(f\"after remove from 2nd element, ls7: {ls7}, out: {out}\")"
      ],
      "metadata": {
        "id": "uLe5OMNaGAz_"
      },
      "execution_count": null,
      "outputs": []
    },
    {
      "cell_type": "markdown",
      "source": [
        "### list: count() and index()\n",
        "\n",
        "1. count() will give total count of that element occured\n",
        "2. index() will give first index value of the element"
      ],
      "metadata": {
        "id": "W-hlbqQ8ESz0"
      }
    },
    {
      "cell_type": "code",
      "source": [
        "ls8 = [1,4,2,5,3,4]\n",
        "\n",
        "print(f\"count: {ls8.count(4)}\")\n",
        "print(f\"index: {ls8.index(4)}\")"
      ],
      "metadata": {
        "id": "bdEn_OsDEdja",
        "outputId": "22ef7f04-3a29-4509-ca12-4495d0406e9a",
        "colab": {
          "base_uri": "https://localhost:8080/"
        }
      },
      "execution_count": null,
      "outputs": [
        {
          "output_type": "stream",
          "name": "stdout",
          "text": [
            "count: 2\n",
            "index: 1\n"
          ]
        }
      ]
    },
    {
      "cell_type": "markdown",
      "source": [
        "### list comprehension"
      ],
      "metadata": {
        "id": "rEsLzN4WFFtd"
      }
    },
    {
      "cell_type": "code",
      "source": [
        "a = [i for i in range(1,6) if i % 2 == 0]\n",
        "print(a)"
      ],
      "metadata": {
        "id": "PMt6jQGLFI7d",
        "outputId": "2a9fd5d1-37bb-4aad-e690-d7291e8b7b50",
        "colab": {
          "base_uri": "https://localhost:8080/"
        }
      },
      "execution_count": null,
      "outputs": [
        {
          "output_type": "stream",
          "name": "stdout",
          "text": [
            "[2, 4]\n"
          ]
        }
      ]
    },
    {
      "cell_type": "markdown",
      "source": [
        "### list: extras"
      ],
      "metadata": {
        "id": "_egfDQ_xLaie"
      }
    },
    {
      "cell_type": "code",
      "source": [
        "# list is heterogenious\n",
        "\n",
        "lst_3 = [1, {1,4,7}, 'b', (1,2), 2.0, True, {\"key\": \"val\"}]\n",
        "print(f\"{lst_3=}\")"
      ],
      "metadata": {
        "id": "On07HMoNju8P"
      },
      "execution_count": null,
      "outputs": []
    },
    {
      "cell_type": "code",
      "source": [
        "# remove duplicates from list\n",
        "\n",
        "ls4 = [1, 2,5, 3,5, 4, 2]\n",
        "\n",
        "print(f\"original list: {ls4}\")\n",
        "set1 = set(ls4)\n",
        "ls4 = list(set1)\n",
        "print(f\"original list after remove duplicates: {ls4}\")"
      ],
      "metadata": {
        "id": "E0f4sj_vLd9Z"
      },
      "execution_count": null,
      "outputs": []
    },
    {
      "cell_type": "code",
      "source": [
        "# del() vs pop() difference in list\n",
        "\n",
        "ls5 = [1,2,3,4]\n",
        "\n",
        "del(ls5[0])  # will remove the element but will not return anything\n",
        "ls5.pop(0)  # will remove the 0th element and will return the element"
      ],
      "metadata": {
        "id": "_cYo0FnpprAd",
        "outputId": "c7262039-8b62-4045-8311-65ff1b94452e",
        "colab": {
          "base_uri": "https://localhost:8080/"
        }
      },
      "execution_count": null,
      "outputs": [
        {
          "output_type": "execute_result",
          "data": {
            "text/plain": [
              "2"
            ]
          },
          "metadata": {},
          "execution_count": 7
        }
      ]
    },
    {
      "cell_type": "markdown",
      "source": [
        "## Collection - tupple():\n",
        "\n",
        "1. tupple is immutable"
      ],
      "metadata": {
        "id": "JKQpEbGkLImQ"
      }
    },
    {
      "cell_type": "markdown",
      "source": [
        "### tupple: \"+\" operator"
      ],
      "metadata": {
        "id": "V293au3rHSGx"
      }
    },
    {
      "cell_type": "code",
      "source": [
        "# tupple can be added and multiplied\n",
        "t1 = 1,\n",
        "t2 = (1,2,3)\n",
        "\n",
        "print(f\"memory of t2 before concat, {id(t2)} and t2: {t2}\")\n",
        "t2 += t1\n",
        "print(f\"memory of t2 after concat, {id(t2)} and t2: {t2}\")"
      ],
      "metadata": {
        "id": "JH1gxyr0zVh1",
        "outputId": "e10fd1ba-5a02-462b-88e5-b3f5b214207d",
        "colab": {
          "base_uri": "https://localhost:8080/"
        }
      },
      "execution_count": null,
      "outputs": [
        {
          "output_type": "stream",
          "name": "stdout",
          "text": [
            "memory of t2 before concat, 134899427587136 and t2: (1, 2, 3)\n",
            "memory of t2 after concat, 134899408088944 and t2: (1, 2, 3, 1)\n"
          ]
        }
      ]
    },
    {
      "cell_type": "markdown",
      "source": [
        "### tupple: \"*\" operator"
      ],
      "metadata": {
        "id": "v0IdUxQiHbl4"
      }
    },
    {
      "cell_type": "markdown",
      "source": [
        "### tupple:"
      ],
      "metadata": {
        "id": "lkoqWVhjHgxd"
      }
    },
    {
      "cell_type": "markdown",
      "source": [
        "### tupple: extras"
      ],
      "metadata": {
        "id": "xXrdEZg9HY4z"
      }
    },
    {
      "cell_type": "code",
      "source": [
        "# tupple is heterogenious\n",
        "\n",
        "tupple_1 = (1, \"a\", {1, 2}, [1, 2], (1,2))\n",
        "print(f\"{tupple_1=}\")"
      ],
      "metadata": {
        "id": "xIVNdd28kCxH"
      },
      "execution_count": null,
      "outputs": []
    },
    {
      "cell_type": "code",
      "source": [
        "# how to access tupple elements\n",
        "\n",
        "t1 = (1,2,3)\n",
        "for i in t1:\n",
        "    print(i)"
      ],
      "metadata": {
        "id": "uW6eVroMLM4A"
      },
      "execution_count": null,
      "outputs": []
    },
    {
      "cell_type": "markdown",
      "source": [
        "## Collection - set():\n",
        "\n",
        "1. store unique value and hashable value\n",
        "2. set element can't be changed"
      ],
      "metadata": {
        "id": "Yshm4SAkqyCW"
      }
    },
    {
      "cell_type": "code",
      "source": [
        "a = {1,99,2,97, 5,2}\n",
        "print(a, type(a))"
      ],
      "metadata": {
        "id": "LYTwH24kTbZd",
        "outputId": "fdeb57fe-6b98-43bc-83d7-136b85ee278e",
        "colab": {
          "base_uri": "https://localhost:8080/"
        }
      },
      "execution_count": null,
      "outputs": [
        {
          "output_type": "stream",
          "name": "stdout",
          "text": [
            "{1, 2, 99, 97, 5} <class 'set'>\n"
          ]
        }
      ]
    },
    {
      "cell_type": "markdown",
      "source": [
        "## Collection - dict():"
      ],
      "metadata": {
        "id": "1EKb4RVAqyk-"
      }
    },
    {
      "cell_type": "code",
      "source": [
        "dict1 = {\"key1\": \"val1\", \"key2\": \"val2\"}"
      ],
      "metadata": {
        "id": "xdcUKBV3q5Dj"
      },
      "execution_count": null,
      "outputs": []
    },
    {
      "cell_type": "markdown",
      "source": [
        "### access dict elements:"
      ],
      "metadata": {
        "id": "X6WXbQrGrX8T"
      }
    },
    {
      "cell_type": "code",
      "source": [
        "for k in dict1:\n",
        "    print(k)"
      ],
      "metadata": {
        "id": "jMqUjkgvs8yZ",
        "outputId": "8f94b39d-8aef-491d-bafb-11051bfb9a42",
        "colab": {
          "base_uri": "https://localhost:8080/"
        }
      },
      "execution_count": null,
      "outputs": [
        {
          "output_type": "stream",
          "name": "stdout",
          "text": [
            "key1\n",
            "key2\n"
          ]
        }
      ]
    },
    {
      "cell_type": "code",
      "source": [
        "for k in dict1.keys():\n",
        "    print(k)"
      ],
      "metadata": {
        "id": "4yehPXr2rfhS",
        "outputId": "e6e51bd4-6822-4777-fffe-40268c61a835",
        "colab": {
          "base_uri": "https://localhost:8080/"
        }
      },
      "execution_count": null,
      "outputs": [
        {
          "output_type": "stream",
          "name": "stdout",
          "text": [
            "key1\n",
            "key2\n"
          ]
        }
      ]
    },
    {
      "cell_type": "code",
      "source": [
        "for val in dict1.values():\n",
        "    print(val)"
      ],
      "metadata": {
        "id": "JQdG0wVCrpDA",
        "outputId": "c3c3a833-c9d4-46e7-9b95-7e69d19c7734",
        "colab": {
          "base_uri": "https://localhost:8080/"
        }
      },
      "execution_count": null,
      "outputs": [
        {
          "output_type": "stream",
          "name": "stdout",
          "text": [
            "val1\n",
            "val2\n"
          ]
        }
      ]
    },
    {
      "cell_type": "code",
      "source": [
        "for key, val in dict1.items():\n",
        "    print(f\"key: {key}, val: {val}\")"
      ],
      "metadata": {
        "id": "F_ULKm9hrD1C",
        "outputId": "71d4f8aa-5a09-467e-8f52-8df4185553e2",
        "colab": {
          "base_uri": "https://localhost:8080/"
        }
      },
      "execution_count": null,
      "outputs": [
        {
          "output_type": "stream",
          "name": "stdout",
          "text": [
            "key: key1, val: val1\n",
            "key: key2, val: val2\n"
          ]
        }
      ]
    },
    {
      "cell_type": "markdown",
      "source": [
        "### Dict: extras"
      ],
      "metadata": {
        "id": "AnmtWFKqtFpn"
      }
    },
    {
      "cell_type": "markdown",
      "source": [
        "# Iterator:\n",
        "\n",
        "1. list, tuple, set, dict all are iterable obj\n",
        "2. iterable obj consists of \\_\\_iter__() and \\_\\_next__()"
      ],
      "metadata": {
        "id": "dG7j56FZsLrn"
      }
    },
    {
      "cell_type": "code",
      "source": [
        "dict2 = iter(dict1)\n",
        "\n",
        "print(type(dict1))\n",
        "print(type(dict2))"
      ],
      "metadata": {
        "id": "2QarkYUyryzU",
        "outputId": "48681983-c34e-443d-d0b1-7cd56082add8",
        "colab": {
          "base_uri": "https://localhost:8080/"
        }
      },
      "execution_count": null,
      "outputs": [
        {
          "output_type": "stream",
          "name": "stdout",
          "text": [
            "<class 'dict'>\n",
            "<class 'dict_keyiterator'>\n"
          ]
        }
      ]
    },
    {
      "cell_type": "code",
      "source": [
        "for i in dict2:\n",
        "    print(i, type(i))"
      ],
      "metadata": {
        "id": "XCd2dcO2sVpy",
        "outputId": "8b5ef5ab-ecc3-4379-fff8-fe4c8799d9ac",
        "colab": {
          "base_uri": "https://localhost:8080/"
        }
      },
      "execution_count": null,
      "outputs": [
        {
          "output_type": "stream",
          "name": "stdout",
          "text": [
            "key1 <class 'str'>\n",
            "key2 <class 'str'>\n"
          ]
        }
      ]
    },
    {
      "cell_type": "markdown",
      "source": [
        "# Enumerate:\n",
        "\n",
        "1. Its work on itarable obj and give counter value"
      ],
      "metadata": {
        "id": "fH98R_7flmOp"
      }
    },
    {
      "cell_type": "code",
      "source": [
        "s = \"I love India\"\n",
        "\n",
        "for index, element in enumerate(s, 1):\n",
        "    print(f\"{index}-{element}\", end=\", \")\n"
      ],
      "metadata": {
        "id": "QjYFOXNuqBcX",
        "outputId": "8e8c468f-4d01-410d-bba2-cec4a774f56e",
        "colab": {
          "base_uri": "https://localhost:8080/"
        }
      },
      "execution_count": 4,
      "outputs": [
        {
          "output_type": "stream",
          "name": "stdout",
          "text": [
            "1-I, 2- , 3-l, 4-o, 5-v, 6-e, 7- , 8-I, 9-n, 10-d, 11-i, 12-a, "
          ]
        }
      ]
    },
    {
      "cell_type": "markdown",
      "source": [
        "# Operators:"
      ],
      "metadata": {
        "id": "-Vk4aXMSyim-"
      }
    },
    {
      "cell_type": "markdown",
      "source": [
        "1. Python operators\n",
        "2. operators types\n",
        "3. operator precedence\n",
        "4. operator associativity"
      ],
      "metadata": {
        "id": "qMiHl-2RXY5t"
      }
    },
    {
      "cell_type": "markdown",
      "source": [
        "## Arithmetic Operator:"
      ],
      "metadata": {
        "id": "gB3cufQVj6GN"
      }
    },
    {
      "cell_type": "code",
      "source": [
        "a = 1 + 2  # addition\n",
        "b = 4 - 2  # subtraction\n",
        "c = 8 / 2  # division to get quotient\n",
        "d = 10 % 3  # modulus to get reminder\n",
        "e = 2 ** 3  # power or exponent\n",
        "f = -7//2\n",
        "\n",
        "print(a, b, c,d,e,f)"
      ],
      "metadata": {
        "id": "YO5FkmEzXZVx",
        "outputId": "1172673a-8771-4026-b87e-2a06f826854b",
        "colab": {
          "base_uri": "https://localhost:8080/"
        }
      },
      "execution_count": null,
      "outputs": [
        {
          "output_type": "stream",
          "name": "stdout",
          "text": [
            "3 2 4.0 1 8 -4\n"
          ]
        }
      ]
    },
    {
      "cell_type": "markdown",
      "source": [
        "## Comparison Operator:\n",
        "\n",
        "```python\n",
        "1. ==\n",
        "2. !=\n",
        "3. >\n",
        "4. <\n",
        "5. >=\n",
        "6. >=\n",
        "```"
      ],
      "metadata": {
        "id": "6wYNrhU3j-9N"
      }
    },
    {
      "cell_type": "markdown",
      "source": [
        "## Logical Operator:\n",
        "\n",
        "1. and\n",
        "2. or\n",
        "3. not"
      ],
      "metadata": {
        "id": "5ipaWOjHkBY6"
      }
    },
    {
      "cell_type": "markdown",
      "source": [
        "## Compared with \"is\" and \"==\":\n",
        "“is keyword” is used to test whether two variables belong to the same object."
      ],
      "metadata": {
        "id": "5ZGy5fQyderg"
      }
    },
    {
      "cell_type": "code",
      "source": [
        "a=-6\n",
        "b=-6\n",
        "\n",
        "if a is b:\n",
        "    print(f\"same object\")\n",
        "else:\n",
        "    print(f\"not same object\")\n",
        "\n",
        "if a == b:\n",
        "    print(f\"same value\")\n",
        "else:\n",
        "    print(f\"not same value\")"
      ],
      "metadata": {
        "id": "dWIsybcbdky2"
      },
      "execution_count": null,
      "outputs": []
    },
    {
      "cell_type": "markdown",
      "source": [
        "# functions:\n",
        "\n",
        "1. Python function is an object\n",
        "2. by default, its return None object"
      ],
      "metadata": {
        "id": "ccNbVB6q6kJS"
      }
    },
    {
      "cell_type": "code",
      "source": [
        "def _square(val: int) -> int:\n",
        "    return val**2"
      ],
      "metadata": {
        "id": "tc8QBK01Npxs"
      },
      "execution_count": null,
      "outputs": []
    },
    {
      "cell_type": "code",
      "source": [
        "print(_square(5))"
      ],
      "metadata": {
        "id": "PEQuk3B-Nqvh",
        "outputId": "4bf49b7d-cce9-4986-afcf-bfa1cf619739",
        "colab": {
          "base_uri": "https://localhost:8080/"
        }
      },
      "execution_count": null,
      "outputs": [
        {
          "output_type": "stream",
          "name": "stdout",
          "text": [
            "25\n"
          ]
        }
      ]
    },
    {
      "cell_type": "markdown",
      "source": [
        "## call child function inside a parent function"
      ],
      "metadata": {
        "id": "yScujoHXOCXQ"
      }
    },
    {
      "cell_type": "code",
      "source": [
        "# parent funct defined\n",
        "def _compute(power_type: int) -> int:\n",
        "\n",
        "    # child function defined\n",
        "    def _power_func(val: int) -> int:\n",
        "        return val**power_type\n",
        "\n",
        "    # return the child function\n",
        "    return _power_func"
      ],
      "metadata": {
        "id": "Jnk9txOVOGbs"
      },
      "execution_count": null,
      "outputs": []
    },
    {
      "cell_type": "markdown",
      "source": [
        "## store function into a variable as object"
      ],
      "metadata": {
        "id": "7tPKjT34OfaZ"
      }
    },
    {
      "cell_type": "code",
      "source": [
        "square = _compute(2)  # creating a square function\n",
        "cube = _compute(3)  # creating a cube function\n",
        "quad = _compute(4)  # creating a quad function"
      ],
      "metadata": {
        "id": "U5oZ06yJR1fq"
      },
      "execution_count": null,
      "outputs": []
    },
    {
      "cell_type": "code",
      "source": [
        "print(square(5))\n",
        "print(cube(5))\n",
        "print(quad(5))"
      ],
      "metadata": {
        "id": "fNqK6NZeR48w",
        "outputId": "b2177b61-1e79-4efa-d793-acfbd3c89c8b",
        "colab": {
          "base_uri": "https://localhost:8080/"
        }
      },
      "execution_count": null,
      "outputs": [
        {
          "output_type": "stream",
          "name": "stdout",
          "text": [
            "25\n",
            "125\n",
            "625\n"
          ]
        }
      ]
    },
    {
      "cell_type": "markdown",
      "source": [
        "## pass function as a parameter"
      ],
      "metadata": {
        "id": "TTsOzcTtNPhM"
      }
    },
    {
      "cell_type": "code",
      "source": [
        "def _whisper(text):\n",
        "    return text.lower()\n",
        "\n",
        "def greet(func):\n",
        "    msg = func(\"Hello The Data Fest AI\")  # all the capital letter will be lower in output\n",
        "    print(msg)\n",
        "\n",
        "greet(_whisper)"
      ],
      "metadata": {
        "id": "i70e7qX9b61T",
        "outputId": "30a4411d-6d42-49b5-d7a8-4630c77045a6",
        "colab": {
          "base_uri": "https://localhost:8080/"
        }
      },
      "execution_count": null,
      "outputs": [
        {
          "output_type": "stream",
          "name": "stdout",
          "text": [
            "hello the data fest ai\n"
          ]
        }
      ]
    },
    {
      "cell_type": "markdown",
      "source": [
        "## Decorator:"
      ],
      "metadata": {
        "id": "w-fexsOXcB--"
      }
    },
    {
      "cell_type": "code",
      "source": [
        "def calculate_time(func):\n",
        "    import time\n",
        "    def _inner(*args, **kwargs):\n",
        "        begin_time = time.time()\n",
        "        out = func(*args, **kwargs)  # passed func, called\n",
        "        end_time = time.time()\n",
        "        print(f\"funtion `{func.__name__}` had taken {end_time-begin_time}s\")\n",
        "        return out\n",
        "    return _inner"
      ],
      "metadata": {
        "id": "RN9DafyyNJMB"
      },
      "execution_count": null,
      "outputs": []
    },
    {
      "cell_type": "code",
      "source": [
        "import math\n",
        "import time\n",
        "\n",
        "@calculate_time\n",
        "def fractorial(val):\n",
        "    time.sleep(2)\n",
        "    return math.factorial(val)\n",
        "\n",
        "print(fractorial(5))"
      ],
      "metadata": {
        "id": "UKPsx_uXgQAL",
        "outputId": "9b684db5-0895-4d79-bb0e-224365928bdb",
        "colab": {
          "base_uri": "https://localhost:8080/"
        }
      },
      "execution_count": null,
      "outputs": [
        {
          "output_type": "stream",
          "name": "stdout",
          "text": [
            "funtion `fractorial` had taken 2.0020930767059326s\n",
            "120\n"
          ]
        }
      ]
    },
    {
      "cell_type": "markdown",
      "source": [
        "## Monkey Patching:\n",
        "\n",
        "Its similar to assigning another function to other function"
      ],
      "metadata": {
        "id": "13ba1vQhcEtZ"
      }
    },
    {
      "cell_type": "code",
      "source": [
        "class A:\n",
        "    def test_a(self):\n",
        "        print(\"test_a has been called\")\n",
        "\n",
        "def test_b(any_param):\n",
        "    print(\"test_b has been called\")\n",
        "\n",
        "A.test_a = test_b  # function assigned to another function\n",
        "\n",
        "obj = A()\n",
        "obj.test_a()  # will print test_b instead of test_a"
      ],
      "metadata": {
        "id": "6SQCX1EbmRlr",
        "outputId": "59245c64-7c69-472a-97cb-badd3f37c6c9",
        "colab": {
          "base_uri": "https://localhost:8080/"
        }
      },
      "execution_count": null,
      "outputs": [
        {
          "output_type": "stream",
          "name": "stdout",
          "text": [
            "test_b has been called\n"
          ]
        }
      ]
    },
    {
      "cell_type": "markdown",
      "source": [
        "# class and object:"
      ],
      "metadata": {
        "id": "8fyTXKIs6mLO"
      }
    },
    {
      "cell_type": "code",
      "source": [
        "class Sample(object):\n",
        "    pass"
      ],
      "metadata": {
        "id": "k3dz6CtTjRu1"
      },
      "execution_count": null,
      "outputs": []
    },
    {
      "cell_type": "code",
      "source": [
        "class Person:\n",
        "    total_count = 0\n",
        "    def __init__(self, name, age):\n",
        "        self.name = name\n",
        "        self.age = age\n",
        "        Person.total_count += 1"
      ],
      "metadata": {
        "id": "TRu8KNBEjbt4"
      },
      "execution_count": null,
      "outputs": []
    },
    {
      "cell_type": "code",
      "source": [
        "person1 = Person(\"indra\", 25)\n",
        "person2 = Person(\"bua\", 26)\n",
        "\n",
        "print(f\"{Person.total_count} persons created\")"
      ],
      "metadata": {
        "id": "4zJZ-k6kp_qP",
        "outputId": "cda34f8d-3d77-476f-8551-00bddb84ca76",
        "colab": {
          "base_uri": "https://localhost:8080/"
        }
      },
      "execution_count": null,
      "outputs": [
        {
          "output_type": "stream",
          "name": "stdout",
          "text": [
            "2 persons created\n"
          ]
        }
      ]
    },
    {
      "cell_type": "markdown",
      "source": [
        "## Abstract Class and Method:\n",
        "\n",
        "Ref:\n",
        "1. https://ioflood.com/blog/python-abstract-class/"
      ],
      "metadata": {
        "id": "Cjx8HTxQ0_E3"
      }
    },
    {
      "cell_type": "code",
      "source": [
        "from abc import ABC, abstractmethod\n",
        "\n",
        "# abstract class\n",
        "class PersonAbstract(ABC):\n",
        "    # this abstractmethod needs to be override in child class\n",
        "    @abstractmethod\n",
        "    def is_senior_citizen(self):\n",
        "        pass\n",
        "\n",
        "# child class, which inherited the person abstract class\n",
        "# and its `not override` the is_senior_citizen() abstract method\n",
        "class WrongPerson(PersonAbstract):\n",
        "    def __init__(self, name, age):\n",
        "        self.name = name\n",
        "        self.age = age\n",
        "\n",
        "# child class, which inherited the person abstract class\n",
        "# and its override the is_senior_citizen() abstract method\n",
        "class Person(PersonAbstract):\n",
        "    def __init__(self, name, age):\n",
        "        self.name = name\n",
        "        self.age = age\n",
        "\n",
        "    def is_senior_citizen(self):\n",
        "        if self.age > 60:\n",
        "            print(f\"{self.name} is senior citizen\")\n",
        "        else:\n",
        "            print(f\"{self.name} is not senior citizen\")"
      ],
      "metadata": {
        "id": "NOLrtJNX1Blx"
      },
      "execution_count": null,
      "outputs": []
    },
    {
      "cell_type": "markdown",
      "source": [
        "```python\n",
        "# This will generate the error, as we have not override the abstract method\n",
        "# p1 = WrongPerson(\"indra\", 61)\n",
        "\n",
        "\"\"\"\n",
        "TypeError: Can't instantiate abstract class WrongPerson with abstract method is_senior_citizen\n",
        "\"\"\"\n",
        "```"
      ],
      "metadata": {
        "id": "XgWaIzPqBEvg"
      }
    },
    {
      "cell_type": "code",
      "source": [
        "p1 = Person(\"indra\", 61)\n",
        "p1.is_senior_citizen()\n",
        "\n",
        "p2 = Person(\"Devashish\", 26)\n",
        "p2.is_senior_citizen()"
      ],
      "metadata": {
        "colab": {
          "base_uri": "https://localhost:8080/"
        },
        "id": "376eiBeD5gwn",
        "outputId": "10f0d604-97c1-4e9f-adf6-f3cd43c16ba8"
      },
      "execution_count": null,
      "outputs": [
        {
          "output_type": "stream",
          "name": "stdout",
          "text": [
            "indra is senior citizen\n",
            "Devashish is not senior citizen\n"
          ]
        }
      ]
    },
    {
      "cell_type": "markdown",
      "source": [
        "## Inheritance:"
      ],
      "metadata": {
        "id": "f5YXJyPyBre8"
      }
    },
    {
      "cell_type": "code",
      "source": [
        "# Inherited Person class\n",
        "class Employee(Person):\n",
        "    def __init__(self, name, age, joining_year):\n",
        "        # using super() we can access parent class methods\n",
        "        super().__init__(name, age)\n",
        "        self.joining_year = joining_year\n",
        "\n",
        "    def is_eligible_for_pension(self):\n",
        "        if self.joining_year > 2003:\n",
        "            print(f\"{self.name} is not eligible for pension\")\n",
        "        else:\n",
        "            print(f\"{self.name} is eligible for pension\")"
      ],
      "metadata": {
        "id": "mjsjAKXl5Cxi"
      },
      "execution_count": null,
      "outputs": []
    },
    {
      "cell_type": "code",
      "source": [
        "emp1 = Employee(\"indra\", 24, 2014)\n",
        "emp1.is_senior_citizen()  # child obj can access parent class methods\n",
        "emp1.is_eligible_for_pension()  # child obj can access child class methods"
      ],
      "metadata": {
        "colab": {
          "base_uri": "https://localhost:8080/"
        },
        "id": "BRqp6W0-D0zQ",
        "outputId": "ae22fb5e-a613-4095-8acf-180676653b99"
      },
      "execution_count": null,
      "outputs": [
        {
          "output_type": "stream",
          "name": "stdout",
          "text": [
            "indra is not senior citizen\n",
            "indra is not eligible for pension\n"
          ]
        }
      ]
    },
    {
      "cell_type": "markdown",
      "source": [
        "## MRO (method resolution order):"
      ],
      "metadata": {
        "id": "oWNxIsfaIXQA"
      }
    },
    {
      "cell_type": "markdown",
      "source": [
        "## class method and static method:\n",
        "\n",
        "1. **class method**:\n",
        "    1. A class method is a method that is bound to the class and not the object of the class.\n",
        "    2. access to the state of the class as it takes a class parameter that points to the class and not the object instance.\n",
        "    3. can modify a class state that would apply across all the instances of the class. For example, it can modify a class variable that will be applicable to all the instances.\n",
        "\n",
        "2. **static method**:\n",
        "    1. is also a method that is bound to the class and not the object of the class.\n",
        "    2. This method can't access or modify the class state.\n",
        "    3. to call static method, call through class"
      ],
      "metadata": {
        "id": "kYxdfAPYpHzN"
      }
    },
    {
      "cell_type": "markdown",
      "source": [
        "Class Method | Static Method\n",
        ":--- | :---\n",
        "generally use the class method to create factory methods. Factory methods return class objects ( similar to a constructor ) | generally use static methods to create utility functions\n",
        "class method takes cls as the first paramete | static method needs no specific parameters\n",
        "class method can access or modify the class state | static method can’t access or modify it.\n",
        "use @classmethod decorator in python to create a class method | use @staticmethod decorator to create a static method in python"
      ],
      "metadata": {
        "id": "nmKAVcbyl0wi"
      }
    },
    {
      "cell_type": "code",
      "source": [
        "class Customer:\n",
        "    cust_count = 0\n",
        "\n",
        "    def __init__(self, name):\n",
        "        self.name = name\n",
        "        Customer.cust_count += 1\n",
        "\n",
        "    @classmethod  # class method decorator\n",
        "    def _get_customer_count(cls):  # 1st arg is class not obj\n",
        "        return f\"total customer count {cls.cust_count}\"\n",
        "\n",
        "    @staticmethod  # static method decorator\n",
        "    def _is_shopping_day(cur_temp):  # 1st arg is not pointing to obj or cls\n",
        "        if 6 < cur_temp < 42:\n",
        "            return \"Its a shopping day\"\n",
        "        else:\n",
        "            return \"Its not a shopping day\"\n",
        "\n",
        "    def cur_cust_name(self):  # 1st arg is pointing to obj\n",
        "        print(f\"customer name is {self.name}\")"
      ],
      "metadata": {
        "id": "NM-OQh0_mr8r"
      },
      "execution_count": null,
      "outputs": []
    },
    {
      "cell_type": "code",
      "source": [
        "cust1 = Customer(\"indra\")\n",
        "cust1.cur_cust_name()\n",
        "\n",
        "cust2 = Customer(\"pravin\")\n",
        "cust2.cur_cust_name()\n",
        "\n",
        "print(Customer._get_customer_count())  # calling class method\n",
        "print(Customer._is_shopping_day(25))  # calling static method"
      ],
      "metadata": {
        "id": "mR3ZEGfkpnZx",
        "outputId": "4b40f030-e9d2-4f83-e2e0-90a4ee04abf2",
        "colab": {
          "base_uri": "https://localhost:8080/"
        }
      },
      "execution_count": null,
      "outputs": [
        {
          "output_type": "stream",
          "name": "stdout",
          "text": [
            "customer name is indra\n",
            "customer name is pravin\n",
            "total customer count 2\n",
            "Its a shopping day\n"
          ]
        }
      ]
    },
    {
      "cell_type": "markdown",
      "source": [
        "## Getter and Setter Property:"
      ],
      "metadata": {
        "id": "MOh5WiN6pECy"
      }
    },
    {
      "cell_type": "code",
      "source": [
        "class Laptop:\n",
        "    def __init__(self):\n",
        "        self._brand = \"No Brand\"\n",
        "\n",
        "    @property\n",
        "    def brand(self):\n",
        "        print(\"getter called\")\n",
        "        return self._brand\n",
        "\n",
        "    @brand.setter\n",
        "    def brand(self, brand_name):\n",
        "        print(\"setter called\")\n",
        "        self._brand = brand_name\n",
        "\n",
        "l1 = Laptop()\n",
        "print(l1.brand)\n",
        "l1.brand = \"HP\"\n",
        "print(l1.brand)"
      ],
      "metadata": {
        "id": "5oJUZAMmpDgZ",
        "colab": {
          "base_uri": "https://localhost:8080/"
        },
        "outputId": "bbec494e-13c5-488c-f444-0cea3d02b2f3"
      },
      "execution_count": null,
      "outputs": [
        {
          "output_type": "stream",
          "name": "stdout",
          "text": [
            "getter called\n",
            "No Brand\n",
            "setter called\n",
            "getter called\n",
            "HP\n"
          ]
        }
      ]
    },
    {
      "cell_type": "markdown",
      "source": [
        "# exception handling"
      ],
      "metadata": {
        "id": "JJTScb_D6pEX"
      }
    },
    {
      "cell_type": "markdown",
      "source": [
        "## raise error:"
      ],
      "metadata": {
        "id": "bnUI8ptYilZf"
      }
    },
    {
      "cell_type": "code",
      "source": [
        "age = 61\n",
        "\n",
        "try:\n",
        "    if age > 60:\n",
        "        raise ValueError(\"age is more than 60\")\n",
        "except ValueError as e:\n",
        "    print(f\"value error generated: {e}\")"
      ],
      "metadata": {
        "colab": {
          "base_uri": "https://localhost:8080/"
        },
        "id": "cpQyaXg7iplP",
        "outputId": "15fd41da-6988-4b14-88ef-edd270103b90"
      },
      "execution_count": null,
      "outputs": [
        {
          "output_type": "stream",
          "name": "stdout",
          "text": [
            "value error generated: age is more than 60\n"
          ]
        }
      ]
    },
    {
      "cell_type": "markdown",
      "source": [
        "## try-except-finally"
      ],
      "metadata": {
        "id": "naHUfDp3LlHA"
      }
    },
    {
      "cell_type": "code",
      "source": [
        "a = 10\n",
        "try:\n",
        "    b = a/0\n",
        "    print(f\"b: {b}\")\n",
        "except Exception as e:\n",
        "    print(f\"error occured: {e}\")\n",
        "finally:\n",
        "    print(f\"finally block\")"
      ],
      "metadata": {
        "id": "UbvmxiN7LkFp"
      },
      "execution_count": null,
      "outputs": []
    },
    {
      "cell_type": "markdown",
      "source": [
        "## try-except-else-finally"
      ],
      "metadata": {
        "id": "YRyme-kFLnYb"
      }
    },
    {
      "cell_type": "code",
      "source": [
        "a = 10\n",
        "try:\n",
        "    b = a/2\n",
        "    print(f\"b: {b}\")\n",
        "except Exception as e:\n",
        "    print(f\"error occured: {e}\")\n",
        "else:\n",
        "    print(f\"no exception is there\")\n",
        "finally:\n",
        "    print(f\"finally block\")"
      ],
      "metadata": {
        "id": "mxWKRK8XLn11"
      },
      "execution_count": null,
      "outputs": []
    },
    {
      "cell_type": "markdown",
      "source": [
        "# data types and data structures"
      ],
      "metadata": {
        "id": "D_abkNLG6sSF"
      }
    },
    {
      "cell_type": "markdown",
      "source": [
        "## matrics"
      ],
      "metadata": {
        "id": "SHjyS_kaJfjE"
      }
    },
    {
      "cell_type": "code",
      "source": [
        "rows = 3\n",
        "cols = 3\n",
        "matrix = []\n",
        "\n",
        "for i in range(rows):\n",
        "    row = []\n",
        "    for j in range(cols):\n",
        "        row.append(i * cols + j)\n",
        "    matrix.append(row)\n",
        "\n",
        "for row in matrix:\n",
        "    print(row)"
      ],
      "metadata": {
        "id": "ArQGGFodJhdu",
        "outputId": "859b6a2e-e107-47e1-b9c5-bc09e3aea543",
        "colab": {
          "base_uri": "https://localhost:8080/"
        }
      },
      "execution_count": null,
      "outputs": [
        {
          "output_type": "stream",
          "name": "stdout",
          "text": [
            "[0, 1, 2]\n",
            "[3, 4, 5]\n",
            "[6, 7, 8]\n"
          ]
        }
      ]
    },
    {
      "cell_type": "markdown",
      "source": [
        "### matrix multiplication"
      ],
      "metadata": {
        "id": "fR0y9LL1NJ8C"
      }
    },
    {
      "cell_type": "code",
      "source": [
        "matrix_a = [[1,2,3], [4,5,6], [7,8,9]]\n",
        "matrix_b = [[9,8,7], [6,5,4], [3,2,1]]\n",
        "result = [[0,0,0], [0,0,0], [0,0,0]]\n",
        "\n",
        "for i in range(len(matrix_a)):\n",
        "    for j in range(len(matrix_b[0])):\n",
        "        for k in range(len(matrix_b)):\n",
        "            result[i][j] += matrix_a[i][k] * matrix_b[k][j]\n",
        "\n",
        "for i in result:\n",
        "    print(i)"
      ],
      "metadata": {
        "id": "2XqpL_72NOw4",
        "outputId": "3e8a4a5e-58c0-4a18-afb4-b353d006efda",
        "colab": {
          "base_uri": "https://localhost:8080/"
        }
      },
      "execution_count": null,
      "outputs": [
        {
          "output_type": "stream",
          "name": "stdout",
          "text": [
            "[30, 24, 18]\n",
            "[84, 69, 54]\n",
            "[138, 114, 90]\n"
          ]
        }
      ]
    },
    {
      "cell_type": "markdown",
      "source": [
        "# Useful Python Functions:"
      ],
      "metadata": {
        "id": "2n5dN_k0FBPX"
      }
    },
    {
      "cell_type": "markdown",
      "source": [
        "## print()"
      ],
      "metadata": {
        "id": "7kwNxoO5Gge5"
      }
    },
    {
      "cell_type": "code",
      "source": [
        "for i in range(1,12):\n",
        "    print(i, end=\", \")"
      ],
      "metadata": {
        "id": "GjVO0N33GinP",
        "outputId": "bda26807-8fb1-4452-ae85-e4551c47469a",
        "colab": {
          "base_uri": "https://localhost:8080/"
        }
      },
      "execution_count": null,
      "outputs": [
        {
          "output_type": "stream",
          "name": "stdout",
          "text": [
            "1, 2, 3, 4, 5, 6, 7, 8, 9, 10, 11, "
          ]
        }
      ]
    },
    {
      "cell_type": "markdown",
      "source": [
        "## range()"
      ],
      "metadata": {
        "id": "lqJhZcqfFGJu"
      }
    },
    {
      "cell_type": "code",
      "source": [
        "for i in range(2, 6, 2):\n",
        "  print(i)"
      ],
      "metadata": {
        "id": "DcdtxidPFKaF",
        "outputId": "85235057-8e9a-4286-9382-4ab837ec78a1",
        "colab": {
          "base_uri": "https://localhost:8080/"
        }
      },
      "execution_count": null,
      "outputs": [
        {
          "output_type": "stream",
          "name": "stdout",
          "text": [
            "2\n",
            "4\n"
          ]
        }
      ]
    },
    {
      "cell_type": "markdown",
      "source": [
        "## len()"
      ],
      "metadata": {
        "id": "ITRumjScFILR"
      }
    },
    {
      "cell_type": "code",
      "source": [
        "a = [1,3,6,8]\n",
        "print(len(a))"
      ],
      "metadata": {
        "id": "aENn8Y5YFS3V",
        "outputId": "ea88a02e-2842-4f3a-dd2d-c336014e140b",
        "colab": {
          "base_uri": "https://localhost:8080/"
        }
      },
      "execution_count": null,
      "outputs": [
        {
          "output_type": "stream",
          "name": "stdout",
          "text": [
            "4\n"
          ]
        }
      ]
    },
    {
      "cell_type": "markdown",
      "source": [
        "## sorted()"
      ],
      "metadata": {
        "id": "fUq-yWefj4oo"
      }
    },
    {
      "cell_type": "code",
      "source": [
        "a = [2,4,3,5,6,4,3]\n",
        "print(sorted(a))"
      ],
      "metadata": {
        "id": "lcC_unZznvhm",
        "outputId": "65b1dfa3-f75e-4793-f75f-8a1a2c99d405",
        "colab": {
          "base_uri": "https://localhost:8080/"
        }
      },
      "execution_count": null,
      "outputs": [
        {
          "output_type": "stream",
          "name": "stdout",
          "text": [
            "[2, 3, 3, 4, 4, 5, 6]\n"
          ]
        }
      ]
    },
    {
      "cell_type": "markdown",
      "source": [
        "## max()"
      ],
      "metadata": {
        "id": "KBD0TG6kj4ZZ"
      }
    },
    {
      "cell_type": "code",
      "source": [
        "print(max(a))"
      ],
      "metadata": {
        "id": "7U2YZF96oupN",
        "outputId": "579b01a7-b6c7-4912-f9af-5277b3ac6cd0",
        "colab": {
          "base_uri": "https://localhost:8080/"
        }
      },
      "execution_count": null,
      "outputs": [
        {
          "output_type": "stream",
          "name": "stdout",
          "text": [
            "6\n"
          ]
        }
      ]
    },
    {
      "cell_type": "markdown",
      "source": [
        "## sum()"
      ],
      "metadata": {
        "id": "fO6S4l0sj4MY"
      }
    },
    {
      "cell_type": "code",
      "source": [
        "print(sum(a))"
      ],
      "metadata": {
        "id": "WMxQjhGdozRo",
        "outputId": "a4b4c95d-a90f-428c-8834-2e9b20e9c190",
        "colab": {
          "base_uri": "https://localhost:8080/"
        }
      },
      "execution_count": null,
      "outputs": [
        {
          "output_type": "stream",
          "name": "stdout",
          "text": [
            "27\n"
          ]
        }
      ]
    },
    {
      "cell_type": "markdown",
      "source": [
        "## del()"
      ],
      "metadata": {
        "id": "rAr50zOgj3y3"
      }
    },
    {
      "cell_type": "code",
      "source": [
        "ls1 = [1,2,3]\n",
        "\n",
        "del(ls1[2])  # delete 2nd index, element 3\n",
        "ls1"
      ],
      "metadata": {
        "id": "-1WuxwvopDsX",
        "outputId": "04ddda2c-7ffe-416f-a72b-8304e0e5292d",
        "colab": {
          "base_uri": "https://localhost:8080/"
        }
      },
      "execution_count": 2,
      "outputs": [
        {
          "output_type": "execute_result",
          "data": {
            "text/plain": [
              "[1, 2]"
            ]
          },
          "metadata": {},
          "execution_count": 2
        }
      ]
    },
    {
      "cell_type": "markdown",
      "source": [
        "# Doubts and QnA:"
      ],
      "metadata": {
        "id": "HdAW5JFdAR7G"
      }
    }
  ]
}